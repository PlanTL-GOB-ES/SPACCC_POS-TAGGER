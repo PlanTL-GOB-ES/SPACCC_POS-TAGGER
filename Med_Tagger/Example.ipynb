{
 "cells": [
  {
   "cell_type": "code",
   "execution_count": 1,
   "metadata": {
    "collapsed": true
   },
   "outputs": [],
   "source": [
    "from Med_Tagger import Med_Tagger\n"
   ]
  },
  {
   "cell_type": "code",
   "execution_count": 2,
   "metadata": {
    "collapsed": true
   },
   "outputs": [],
   "source": [
    "tag = Med_Tagger()"
   ]
  },
  {
   "cell_type": "code",
   "execution_count": 3,
   "metadata": {},
   "outputs": [
    {
     "data": {
      "text/plain": [
       "[('Este', 'este', 'PD0MS000', '0.0314658'),\n",
       " ('es', 'ser', 'VSIP3S0', '1'),\n",
       " ('un', 'uno', 'DI0MS0', '0.987295'),\n",
       " ('texto', 'texto', 'NCMS000', '1'),\n",
       " ('de', 'de', 'SPS00', '0.999984'),\n",
       " ('prueba', 'prueba', 'NCFS000', '0.972603'),\n",
       " ('.', '.', 'Fp', '1')]"
      ]
     },
     "execution_count": 3,
     "metadata": {},
     "output_type": "execute_result"
    }
   ],
   "source": [
    "tag.parse('Este es un texto de prueba.')"
   ]
  },
  {
   "cell_type": "code",
   "execution_count": 4,
   "metadata": {
    "collapsed": true
   },
   "outputs": [],
   "source": [
    "del(tag)"
   ]
  }
 ],
 "metadata": {
  "kernelspec": {
   "display_name": "Python 3",
   "language": "python",
   "name": "python3"
  },
  "language_info": {
   "codemirror_mode": {
    "name": "ipython",
    "version": 3
   },
   "file_extension": ".py",
   "mimetype": "text/x-python",
   "name": "python",
   "nbconvert_exporter": "python",
   "pygments_lexer": "ipython3",
   "version": "3.6.3"
  }
 },
 "nbformat": 4,
 "nbformat_minor": 2
}
